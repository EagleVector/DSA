{
 "cells": [
  {
   "cell_type": "markdown",
   "id": "7859314e",
   "metadata": {},
   "source": [
    "Q1."
   ]
  },
  {
   "cell_type": "code",
   "execution_count": 1,
   "id": "8265d329",
   "metadata": {},
   "outputs": [
    {
     "name": "stdout",
     "output_type": "stream",
     "text": [
      "2\n"
     ]
    }
   ],
   "source": [
    "#Method Implementation considering the entire search space using binary search.\n",
    "#Time Complexity: O(log n)\n",
    "def square_root(x):\n",
    "    if (x == 0 or x == 1):\n",
    "        return x\n",
    "    start = 0\n",
    "    end = x\n",
    "    while (start <= end):\n",
    "        mid = start + (end - start)//2\n",
    "        \n",
    "        #This is the case when we see that the half of the value is the root of itself exaple 4\n",
    "        if mid * mid == x:\n",
    "            return mid\n",
    "        \n",
    "        #We definitely want our seach space to fall in a region below x/2 as we know square root of a number is always less than its half except for 4\n",
    "        elif mid * mid < x:\n",
    "            start = mid + 1\n",
    "            ans = mid\n",
    "            \n",
    "        else:\n",
    "            end = mid - 1\n",
    "            \n",
    "    return ans\n",
    "\n",
    "#Driver Code\n",
    "x = 8\n",
    "print(square_root(x))"
   ]
  },
  {
   "cell_type": "code",
   "execution_count": 2,
   "id": "fbf29e40",
   "metadata": {},
   "outputs": [
    {
     "name": "stdout",
     "output_type": "stream",
     "text": [
      "2\n"
     ]
    }
   ],
   "source": [
    "#Method Implementation considering half of the search space using binary search.\n",
    "#Time Complexity: O(log n)\n",
    "def square_root(x):\n",
    "    if (x == 0 or x == 1):\n",
    "        return x\n",
    "    start = 1\n",
    "    end = x//2 #Here we are further reducing our search space to half(slightly better version of our code)\n",
    "    while (start <= end):\n",
    "        mid = start + (end - start)//2\n",
    "        \n",
    "        if mid * mid == x:\n",
    "            return mid\n",
    "        \n",
    "        elif mid * mid < x:\n",
    "            start = mid + 1\n",
    "            ans = mid\n",
    "            \n",
    "        else:\n",
    "            end = mid - 1\n",
    "            \n",
    "    return ans\n",
    "\n",
    "#Driver Code\n",
    "x = 8\n",
    "print(square_root(x))"
   ]
  },
  {
   "cell_type": "markdown",
   "id": "446dcf23",
   "metadata": {},
   "source": [
    "Q2."
   ]
  },
  {
   "cell_type": "code",
   "execution_count": 3,
   "id": "32571f33",
   "metadata": {},
   "outputs": [
    {
     "name": "stdout",
     "output_type": "stream",
     "text": [
      "3\n"
     ]
    }
   ],
   "source": [
    "#Method Implementation using binary search.\n",
    "#Time Complexity: O(log n)\n",
    "def product_failure(arr, i, j):\n",
    "    while (i < j):\n",
    "        mid = i + (j-i)//2\n",
    "        \n",
    "        if arr[mid] == 1:\n",
    "            if arr[mid - 1] == 0:\n",
    "                return mid\n",
    "            else:\n",
    "                for k in range(mid,i,-1):\n",
    "                    if arr[k] == 0:\n",
    "                        return k + 1\n",
    "        \n",
    "        elif arr[mid] == 0:\n",
    "            return product_failure(arr, mid + 1, j)\n",
    "\n",
    "#Driver code\n",
    "\n",
    "arr = [0,0,0,1,1,1,1,1]\n",
    "i = 0\n",
    "j = len(arr)-1\n",
    "print(product_failure(arr, i, j))"
   ]
  },
  {
   "cell_type": "markdown",
   "id": "4f5d38ed",
   "metadata": {},
   "source": [
    "Q3."
   ]
  },
  {
   "cell_type": "code",
   "execution_count": 4,
   "id": "c03f3a33",
   "metadata": {},
   "outputs": [
    {
     "name": "stdout",
     "output_type": "stream",
     "text": [
      "True\n"
     ]
    }
   ],
   "source": [
    "#Method Implementation considering half of the search space using binary search.\n",
    "#Time complexity:O(log n)\n",
    "def square_root(x):\n",
    "    if (x == 0 or x == 1):\n",
    "        return x\n",
    "    start = 1\n",
    "    end = x//2 #Here we are further reducing our search space(slightly better version of our code)\n",
    "    while (start <= end):\n",
    "        mid = start + (end - start)//2\n",
    "        \n",
    "        if mid * mid == x:\n",
    "            return True      #The number is a perfect square.\n",
    "        \n",
    "        elif mid * mid < x:\n",
    "            start = mid + 1\n",
    "            \n",
    "        else:\n",
    "            end = mid - 1\n",
    "            \n",
    "    return False   #The number is not a perfect square.\n",
    "\n",
    "#Driver Code\n",
    "x = 16\n",
    "print(square_root(x))"
   ]
  }
 ],
 "metadata": {
  "kernelspec": {
   "display_name": "Python 3 (ipykernel)",
   "language": "python",
   "name": "python3"
  },
  "language_info": {
   "codemirror_mode": {
    "name": "ipython",
    "version": 3
   },
   "file_extension": ".py",
   "mimetype": "text/x-python",
   "name": "python",
   "nbconvert_exporter": "python",
   "pygments_lexer": "ipython3",
   "version": "3.9.12"
  }
 },
 "nbformat": 4,
 "nbformat_minor": 5
}

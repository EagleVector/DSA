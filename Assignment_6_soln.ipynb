{
 "cells": [
  {
   "cell_type": "markdown",
   "id": "9b68a078",
   "metadata": {},
   "source": [
    "Q1. arr = [1, 3, 7, 9, 12, 10, 8, 16, 18, 22, 27]\n",
    "\n",
    "Create a buildHeap method that returns a minheap.\n",
    "\n",
    "heapify(arr, n, i):\n",
    "    \n",
    "    // Write your own code\n",
    "    \n",
    "buildHeap(arr, n):\n",
    "    \n",
    "    //Write your own code heapify(arr, n, i)"
   ]
  },
  {
   "cell_type": "code",
   "execution_count": 39,
   "id": "0e0db742",
   "metadata": {},
   "outputs": [
    {
     "name": "stdout",
     "output_type": "stream",
     "text": [
      "Array representation of Heap is:\n",
      "1 3 5 4 6 13 10 9 8 15 17 "
     ]
    }
   ],
   "source": [
    "#Method Implementation\n",
    "#Time Complexity to build a min heap = O(n)\n",
    "\n",
    "def heapify(arr, N, i):\n",
    " \n",
    "    smallest = i  #Initiallizing the index of smallest element in the sub-tree as i\n",
    "    l = 2 * i + 1  #Initiallizing the index of the left side of tree\n",
    "    r = 2 * i + 2  #Initiallizing the index of right side of tree\n",
    " \n",
    "\n",
    "    if l < N and arr[l] < arr[smallest]:\n",
    "        smallest = l    #Comparing the values\n",
    " \n",
    "    if r < N and arr[r] < arr[smallest]:\n",
    "        smallest = r    #Comparing the values\n",
    " \n",
    "    if smallest != i:\n",
    "        arr[i], arr[smallest] = arr[smallest], arr[i] #Swapping the values in case the sub-tree is not a valid min-heap\n",
    " \n",
    "        heapify(arr, N, smallest) #Correcting all the subtree recursively\n",
    " \n",
    " \n",
    "def buildHeap(arr, N):\n",
    " \n",
    "    startIdx = N // 2 - 1 #Selecting the last sub-tree\n",
    " \n",
    "    for i in range(startIdx, -1, -1):\n",
    "        heapify(arr, N, i)        #Reverse traversing through the sub-tree\n",
    " \n",
    " \n",
    "def printHeap(arr, N):\n",
    "    print(\"Array representation of Heap is:\")\n",
    " \n",
    "    for i in range(N):\n",
    "        print(arr[i], end=\" \") #Printing the valid min-heap\n",
    " \n",
    " \n",
    "#Driver Code\n",
    "arr = [1, 3, 5, 4, 6, 13, 10, 9, 8, 15, 17]\n",
    "N = len(arr)\n",
    "#Method calling\n",
    "buildHeap(arr, N)\n",
    "printHeap(arr, N)"
   ]
  },
  {
   "cell_type": "markdown",
   "id": "29fbb5ed",
   "metadata": {},
   "source": [
    "Q2. Given an array of strings words and an integer k, return the k most frequent words.\n",
    "\n",
    "Your output should be in lexicographical order.\n",
    "\n",
    "Words = [‘priya’, ‘bhatia’, ‘akshay’, ‘arpit’, ‘priya’, ‘arpit’]\n",
    "\n",
    "K = 3\n",
    "\n",
    "Output = [‘arpit’, ‘akshay’, ‘priya’]"
   ]
  },
  {
   "cell_type": "code",
   "execution_count": 40,
   "id": "23ace457",
   "metadata": {},
   "outputs": [
    {
     "name": "stdout",
     "output_type": "stream",
     "text": [
      "['arpit', 'bhatia', 'priya']\n"
     ]
    }
   ],
   "source": [
    "#Importing the dependencies\n",
    "#Time Complexity: O(n)\n",
    "from collections import Counter #Counter function will map the key element with the frequency\n",
    "import heapq\n",
    "#Method Implementation\n",
    "def KMostFrequentWords(arr,K):\n",
    "    if len(arr) == K:\n",
    "        return set(arr)\n",
    "    \n",
    "    else:\n",
    "        count = Counter(arr)\n",
    "        #print(count)            \n",
    "        return heapq.nlargest(K, count.keys(), key=count.get)\n",
    "    \n",
    "#Driver Code\n",
    "arr = ['priya', 'bhatia', 'akshay', 'arpit', 'priya', 'arpit']\n",
    "K = 3\n",
    "#Method Calling\n",
    "result = KMostFrequentWords(arr,K)\n",
    "print(sorted(result))"
   ]
  },
  {
   "cell_type": "markdown",
   "id": "0157ba0e",
   "metadata": {},
   "source": [
    "3. Find the k closest points to the origin.\n",
    "\n",
    "Points = [[1, 3], [-2, 2]]\n",
    "\n",
    "K = 1\n",
    "\n",
    "Output = [-2,2]"
   ]
  },
  {
   "cell_type": "code",
   "execution_count": 41,
   "id": "fb6616b0",
   "metadata": {},
   "outputs": [
    {
     "name": "stdout",
     "output_type": "stream",
     "text": [
      "Distance and K-Closest points to the origin are:  [(1.0, [0, 1])]\n"
     ]
    }
   ],
   "source": [
    "#Time Complexity: for the insertion, time complexity will be (log n) and for the deletion the time complexity will be (n*log n). So the overall time complexity for this problem will become n*log n\n",
    "from heapq import heappush, heappop\n",
    "import math\n",
    "#Method Implementation\n",
    "def KClosestpoint(points, K):\n",
    "    min_heap = []\n",
    "    n = len(points)\n",
    "    for i in range(n):\n",
    "        x = points[i][0]\n",
    "        y = points[i][1]\n",
    "        distance = math.sqrt(x**2 + y**2)      #Calculating the distance of point from origin\n",
    "        \n",
    "        #Creating a min_heap that will store the distances as well as the points\n",
    "        heappush(min_heap, (distance, points[i]))\n",
    "        \n",
    "    result = []\n",
    "    for i in range(K):\n",
    "        \n",
    "        #Heappop will be delete the element from the min_heap and will return the value as well\n",
    "        result.append(heappop(min_heap))\n",
    "        \n",
    "    return result\n",
    "\n",
    "#Driver code\n",
    "points = [[1, 3], [-2, 2], [1,1], [0,1]]\n",
    "K = 1\n",
    "#Method calling\n",
    "result = KClosestpoint(points, K)\n",
    "print(\"Distance and K-Closest points to the origin are: \", result)"
   ]
  }
 ],
 "metadata": {
  "kernelspec": {
   "display_name": "Python 3 (ipykernel)",
   "language": "python",
   "name": "python3"
  },
  "language_info": {
   "codemirror_mode": {
    "name": "ipython",
    "version": 3
   },
   "file_extension": ".py",
   "mimetype": "text/x-python",
   "name": "python",
   "nbconvert_exporter": "python",
   "pygments_lexer": "ipython3",
   "version": "3.9.12"
  }
 },
 "nbformat": 4,
 "nbformat_minor": 5
}
